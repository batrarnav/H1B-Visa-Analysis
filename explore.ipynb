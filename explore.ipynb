{
 "cells": [
  {
   "cell_type": "markdown",
   "id": "eb7f85ac",
   "metadata": {},
   "source": [
    "# H1B Visa Analysis\n",
    "\n",
    "## Author: Muskan Vaswan, Arnav Batra"
   ]
  },
  {
   "cell_type": "markdown",
   "id": "7f31d279",
   "metadata": {},
   "source": [
    "Dataset Description: \n",
    "H-1B visas are a category of employment-based, non-immigrant visas for temporary foreign workers in the United States. For a foreign national to apply for H1-B visa, a US employer must offer them a job and submit a petition for a H-1B visa to the US immigration department. This is also the most common visa status applied for and held by international students once they complete college or higher education and begin working in a full-time position.\n",
    "\n",
    "https://www.kaggle.com/nsharan/h-1b-visa"
   ]
  },
  {
   "cell_type": "code",
   "execution_count": 1,
   "id": "3ee93649",
   "metadata": {},
   "outputs": [],
   "source": [
    "import pandas as pd\n",
    "import matplotlib.pyplot as plt\n",
    "plt.rcParams.update({'font.size': 12})\n",
    "\n",
    "\n",
    "h1b_visa = pd.read_csv('h1b_kaggle.csv')"
   ]
  },
  {
   "cell_type": "code",
   "execution_count": 2,
   "id": "3c859757",
   "metadata": {},
   "outputs": [
    {
     "data": {
      "text/html": [
       "<div>\n",
       "<style scoped>\n",
       "    .dataframe tbody tr th:only-of-type {\n",
       "        vertical-align: middle;\n",
       "    }\n",
       "\n",
       "    .dataframe tbody tr th {\n",
       "        vertical-align: top;\n",
       "    }\n",
       "\n",
       "    .dataframe thead th {\n",
       "        text-align: right;\n",
       "    }\n",
       "</style>\n",
       "<table border=\"1\" class=\"dataframe\">\n",
       "  <thead>\n",
       "    <tr style=\"text-align: right;\">\n",
       "      <th></th>\n",
       "      <th>Unnamed: 0</th>\n",
       "      <th>CASE_STATUS</th>\n",
       "      <th>EMPLOYER_NAME</th>\n",
       "      <th>SOC_NAME</th>\n",
       "      <th>JOB_TITLE</th>\n",
       "      <th>FULL_TIME_POSITION</th>\n",
       "      <th>PREVAILING_WAGE</th>\n",
       "      <th>YEAR</th>\n",
       "      <th>WORKSITE</th>\n",
       "      <th>lon</th>\n",
       "      <th>lat</th>\n",
       "    </tr>\n",
       "  </thead>\n",
       "  <tbody>\n",
       "    <tr>\n",
       "      <th>0</th>\n",
       "      <td>1</td>\n",
       "      <td>CERTIFIED-WITHDRAWN</td>\n",
       "      <td>UNIVERSITY OF MICHIGAN</td>\n",
       "      <td>BIOCHEMISTS AND BIOPHYSICISTS</td>\n",
       "      <td>POSTDOCTORAL RESEARCH FELLOW</td>\n",
       "      <td>N</td>\n",
       "      <td>36067.0</td>\n",
       "      <td>2016.0</td>\n",
       "      <td>ANN ARBOR, MICHIGAN</td>\n",
       "      <td>-83.743038</td>\n",
       "      <td>42.280826</td>\n",
       "    </tr>\n",
       "    <tr>\n",
       "      <th>1</th>\n",
       "      <td>2</td>\n",
       "      <td>CERTIFIED-WITHDRAWN</td>\n",
       "      <td>GOODMAN NETWORKS, INC.</td>\n",
       "      <td>CHIEF EXECUTIVES</td>\n",
       "      <td>CHIEF OPERATING OFFICER</td>\n",
       "      <td>Y</td>\n",
       "      <td>242674.0</td>\n",
       "      <td>2016.0</td>\n",
       "      <td>PLANO, TEXAS</td>\n",
       "      <td>-96.698886</td>\n",
       "      <td>33.019843</td>\n",
       "    </tr>\n",
       "    <tr>\n",
       "      <th>2</th>\n",
       "      <td>3</td>\n",
       "      <td>CERTIFIED-WITHDRAWN</td>\n",
       "      <td>PORTS AMERICA GROUP, INC.</td>\n",
       "      <td>CHIEF EXECUTIVES</td>\n",
       "      <td>CHIEF PROCESS OFFICER</td>\n",
       "      <td>Y</td>\n",
       "      <td>193066.0</td>\n",
       "      <td>2016.0</td>\n",
       "      <td>JERSEY CITY, NEW JERSEY</td>\n",
       "      <td>-74.077642</td>\n",
       "      <td>40.728158</td>\n",
       "    </tr>\n",
       "    <tr>\n",
       "      <th>3</th>\n",
       "      <td>4</td>\n",
       "      <td>CERTIFIED-WITHDRAWN</td>\n",
       "      <td>GATES CORPORATION, A WHOLLY-OWNED SUBSIDIARY O...</td>\n",
       "      <td>CHIEF EXECUTIVES</td>\n",
       "      <td>REGIONAL PRESIDEN, AMERICAS</td>\n",
       "      <td>Y</td>\n",
       "      <td>220314.0</td>\n",
       "      <td>2016.0</td>\n",
       "      <td>DENVER, COLORADO</td>\n",
       "      <td>-104.990251</td>\n",
       "      <td>39.739236</td>\n",
       "    </tr>\n",
       "    <tr>\n",
       "      <th>4</th>\n",
       "      <td>5</td>\n",
       "      <td>WITHDRAWN</td>\n",
       "      <td>PEABODY INVESTMENTS CORP.</td>\n",
       "      <td>CHIEF EXECUTIVES</td>\n",
       "      <td>PRESIDENT MONGOLIA AND INDIA</td>\n",
       "      <td>Y</td>\n",
       "      <td>157518.4</td>\n",
       "      <td>2016.0</td>\n",
       "      <td>ST. LOUIS, MISSOURI</td>\n",
       "      <td>-90.199404</td>\n",
       "      <td>38.627003</td>\n",
       "    </tr>\n",
       "  </tbody>\n",
       "</table>\n",
       "</div>"
      ],
      "text/plain": [
       "   Unnamed: 0          CASE_STATUS  \\\n",
       "0           1  CERTIFIED-WITHDRAWN   \n",
       "1           2  CERTIFIED-WITHDRAWN   \n",
       "2           3  CERTIFIED-WITHDRAWN   \n",
       "3           4  CERTIFIED-WITHDRAWN   \n",
       "4           5            WITHDRAWN   \n",
       "\n",
       "                                       EMPLOYER_NAME  \\\n",
       "0                             UNIVERSITY OF MICHIGAN   \n",
       "1                             GOODMAN NETWORKS, INC.   \n",
       "2                          PORTS AMERICA GROUP, INC.   \n",
       "3  GATES CORPORATION, A WHOLLY-OWNED SUBSIDIARY O...   \n",
       "4                          PEABODY INVESTMENTS CORP.   \n",
       "\n",
       "                        SOC_NAME                     JOB_TITLE  \\\n",
       "0  BIOCHEMISTS AND BIOPHYSICISTS  POSTDOCTORAL RESEARCH FELLOW   \n",
       "1               CHIEF EXECUTIVES       CHIEF OPERATING OFFICER   \n",
       "2               CHIEF EXECUTIVES         CHIEF PROCESS OFFICER   \n",
       "3               CHIEF EXECUTIVES   REGIONAL PRESIDEN, AMERICAS   \n",
       "4               CHIEF EXECUTIVES  PRESIDENT MONGOLIA AND INDIA   \n",
       "\n",
       "  FULL_TIME_POSITION  PREVAILING_WAGE    YEAR                 WORKSITE  \\\n",
       "0                  N          36067.0  2016.0      ANN ARBOR, MICHIGAN   \n",
       "1                  Y         242674.0  2016.0             PLANO, TEXAS   \n",
       "2                  Y         193066.0  2016.0  JERSEY CITY, NEW JERSEY   \n",
       "3                  Y         220314.0  2016.0         DENVER, COLORADO   \n",
       "4                  Y         157518.4  2016.0      ST. LOUIS, MISSOURI   \n",
       "\n",
       "          lon        lat  \n",
       "0  -83.743038  42.280826  \n",
       "1  -96.698886  33.019843  \n",
       "2  -74.077642  40.728158  \n",
       "3 -104.990251  39.739236  \n",
       "4  -90.199404  38.627003  "
      ]
     },
     "execution_count": 2,
     "metadata": {},
     "output_type": "execute_result"
    }
   ],
   "source": [
    "h1b_visa.head()"
   ]
  },
  {
   "cell_type": "code",
   "execution_count": 3,
   "id": "dba4a869",
   "metadata": {},
   "outputs": [
    {
     "name": "stdout",
     "output_type": "stream",
     "text": [
      "CASE_STATUS\n",
      "EMPLOYER_NAME\n",
      "SOC_NAME\n",
      "JOB_TITLE\n",
      "FULL_TIME_POSITION\n",
      "PREVAILING_WAGE\n",
      "YEAR\n",
      "WORKSITE\n",
      "lon\n",
      "lat\n"
     ]
    }
   ],
   "source": [
    "# Columns in data frame\n",
    "print('\\n'.join(list(h1b_visa.columns)[1:]))"
   ]
  },
  {
   "cell_type": "code",
   "execution_count": 4,
   "id": "39762174",
   "metadata": {},
   "outputs": [
    {
     "data": {
      "text/plain": [
       "3002458"
      ]
     },
     "execution_count": 4,
     "metadata": {},
     "output_type": "execute_result"
    }
   ],
   "source": [
    "# Number of Rows in the database \n",
    "h1b_visa.shape[0]"
   ]
  },
  {
   "cell_type": "code",
   "execution_count": 5,
   "id": "37949485",
   "metadata": {},
   "outputs": [
    {
     "data": {
      "text/plain": [
       "CERTIFIED                                             2615623\n",
       "CERTIFIED-WITHDRAWN                                    202659\n",
       "DENIED                                                  94346\n",
       "WITHDRAWN                                               89799\n",
       "PENDING QUALITY AND COMPLIANCE REVIEW - UNASSIGNED         15\n",
       "REJECTED                                                    2\n",
       "INVALIDATED                                                 1\n",
       "Name: CASE_STATUS, dtype: int64"
      ]
     },
     "execution_count": 5,
     "metadata": {},
     "output_type": "execute_result"
    }
   ],
   "source": [
    "# Variety of case statuses\n",
    "statuses = h1b_visa['CASE_STATUS'].value_counts()\n",
    "statuses"
   ]
  },
  {
   "cell_type": "code",
   "execution_count": 6,
   "id": "a7516cd4",
   "metadata": {},
   "outputs": [
    {
     "data": {
      "text/plain": [
       "<AxesSubplot:>"
      ]
     },
     "execution_count": 6,
     "metadata": {},
     "output_type": "execute_result"
    },
    {
     "data": {
      "image/png": "[encoded data removed]",
      "text/plain": [
       "<Figure size 432x288 with 1 Axes>"
      ]
     },
     "metadata": {
      "needs_background": "light"
     },
     "output_type": "display_data"
    }
   ],
   "source": [
    "statuses.plot(kind='bar')"
   ]
  },
  {
   "cell_type": "code",
   "execution_count": 7,
   "id": "d13eb8e3",
   "metadata": {},
   "outputs": [
    {
     "data": {
      "text/plain": [
       "2016.0    647803\n",
       "2015.0    618727\n",
       "2014.0    519427\n",
       "2013.0    442114\n",
       "2012.0    415607\n",
       "2011.0    358767\n",
       "Name: YEAR, dtype: int64"
      ]
     },
     "execution_count": 7,
     "metadata": {},
     "output_type": "execute_result"
    }
   ],
   "source": [
    "h1b_visa['YEAR'].value_counts()"
   ]
  },
  {
   "cell_type": "code",
   "execution_count": 8,
   "id": "fff604c8",
   "metadata": {},
   "outputs": [],
   "source": [
    "employers = h1b_visa['EMPLOYER_NAME'].value_counts()\n",
    "top_employers = employers[:1200]"
   ]
  },
  {
   "cell_type": "code",
   "execution_count": 9,
   "id": "992111ae",
   "metadata": {
    "scrolled": true
   },
   "outputs": [
    {
     "data": {
      "text/plain": [
       "3002399"
      ]
     },
     "execution_count": 9,
     "metadata": {},
     "output_type": "execute_result"
    }
   ],
   "source": [
    "sum(employers)"
   ]
  },
  {
   "cell_type": "code",
   "execution_count": 10,
   "id": "31a48659",
   "metadata": {},
   "outputs": [
    {
     "data": {
      "text/plain": [
       "1512784"
      ]
     },
     "execution_count": 10,
     "metadata": {},
     "output_type": "execute_result"
    }
   ],
   "source": [
    "sum(top_employers)"
   ]
  },
  {
   "cell_type": "code",
   "execution_count": 11,
   "id": "66528761",
   "metadata": {},
   "outputs": [
    {
     "data": {
      "text/plain": [
       "50.38584145544945"
      ]
     },
     "execution_count": 11,
     "metadata": {},
     "output_type": "execute_result"
    }
   ],
   "source": [
    "# Percentage of applications by top 20 employers\n",
    "\n",
    "sum(top_employers) / sum(employers) * 100"
   ]
  },
  {
   "cell_type": "code",
   "execution_count": 12,
   "id": "faefa338",
   "metadata": {},
   "outputs": [
    {
     "data": {
      "text/plain": [
       "0.5084465686212201"
      ]
     },
     "execution_count": 12,
     "metadata": {},
     "output_type": "execute_result"
    }
   ],
   "source": [
    "# Percentage of top employers that employers\n",
    "\n",
    "len(top_employers) / len(employers) * 100"
   ]
  },
  {
   "cell_type": "markdown",
   "id": "07608d16",
   "metadata": {},
   "source": [
    "Key points:\n",
    "\n",
    "1. Top 20 companies account for 18.5% of all apllications. \n",
    "2. Top 0.5% of companies account for more than 50% of all apllications."
   ]
  },
  {
   "cell_type": "code",
   "execution_count": 50,
   "id": "8caef4be",
   "metadata": {},
   "outputs": [
    {
     "data": {
      "text/plain": [
       "(2576111, 11)"
      ]
     },
     "execution_count": 50,
     "metadata": {},
     "output_type": "execute_result"
    }
   ],
   "source": [
    "# full_time = h1b_visa['FULL_TIME_POSITION'] == 'Y'\n",
    "full_time_applications = h1b_visa[h1b_visa['FULL_TIME_POSITION'] == 'Y']\n",
    "full_time_applications.shape"
   ]
  },
  {
   "cell_type": "code",
   "execution_count": 51,
   "id": "48bb217d",
   "metadata": {},
   "outputs": [
    {
     "data": {
      "text/plain": [
       "85.80006781110676"
      ]
     },
     "execution_count": 51,
     "metadata": {},
     "output_type": "execute_result"
    }
   ],
   "source": [
    "full_time_applications.shape[0] / 3002458 * 100"
   ]
  },
  {
   "cell_type": "markdown",
   "id": "ce24d711",
   "metadata": {},
   "source": [
    "85.8% of the applications were made for full time applicants "
   ]
  },
  {
   "cell_type": "code",
   "execution_count": 53,
   "id": "8d9e210b",
   "metadata": {},
   "outputs": [
    {
     "data": {
      "text/plain": [
       "(2419833, 11)"
      ]
     },
     "execution_count": 53,
     "metadata": {},
     "output_type": "execute_result"
    }
   ],
   "source": [
    "accepted_fta = full_time_applications[full_time_applications['CASE_STATUS'].isin(['CERTIFIED', 'CERTIFIED-WITHDRAWN'])]\n",
    "accepted_fta.shape"
   ]
  },
  {
   "cell_type": "code",
   "execution_count": 54,
   "id": "b5f7284b",
   "metadata": {},
   "outputs": [
    {
     "data": {
      "text/plain": [
       "0.9393356885631092"
      ]
     },
     "execution_count": 54,
     "metadata": {},
     "output_type": "execute_result"
    }
   ],
   "source": [
    "accepted_fta.shape[0] / full_time_applications.shape[0]"
   ]
  },
  {
   "cell_type": "code",
   "execution_count": 55,
   "id": "318273f2",
   "metadata": {},
   "outputs": [
    {
     "data": {
      "text/plain": [
       "(426332, 11)"
      ]
     },
     "execution_count": 55,
     "metadata": {},
     "output_type": "execute_result"
    }
   ],
   "source": [
    "part_time_applications = h1b_visa[h1b_visa['FULL_TIME_POSITION'] == 'N']\n",
    "part_time_applications.shape"
   ]
  },
  {
   "cell_type": "code",
   "execution_count": 56,
   "id": "bc5337be",
   "metadata": {},
   "outputs": [
    {
     "data": {
      "text/plain": [
       "(398449, 11)"
      ]
     },
     "execution_count": 56,
     "metadata": {},
     "output_type": "execute_result"
    }
   ],
   "source": [
    "accepted_pta = part_time_applications[part_time_applications['CASE_STATUS'].isin(['CERTIFIED', 'CERTIFIED-WITHDRAWN'])]\n",
    "accepted_pta.shape"
   ]
  },
  {
   "cell_type": "code",
   "execution_count": 57,
   "id": "51bf6ce0",
   "metadata": {},
   "outputs": [
    {
     "data": {
      "text/plain": [
       "0.9345979189927099"
      ]
     },
     "execution_count": 57,
     "metadata": {},
     "output_type": "execute_result"
    }
   ],
   "source": [
    "accepted_pta.shape[0] / part_time_applications.shape[0]"
   ]
  },
  {
   "cell_type": "code",
   "execution_count": null,
   "id": "57097519",
   "metadata": {},
   "outputs": [],
   "source": []
  }
 ],
 "metadata": {
  "kernelspec": {
   "display_name": "Python 3",
   "language": "python",
   "name": "python3"
  },
  "language_info": {
   "codemirror_mode": {
    "name": "ipython",
    "version": 3
   },
   "file_extension": ".py",
   "mimetype": "text/x-python",
   "name": "python",
   "nbconvert_exporter": "python",
   "pygments_lexer": "ipython3",
   "version": "3.9.8"
  }
 },
 "nbformat": 4,
 "nbformat_minor": 5
}
