{
 "cells": [
  {
   "cell_type": "markdown",
   "id": "eb7f85ac",
   "metadata": {},
   "source": [
    "# H1B Visa Analysis\n",
    "\n",
    "## Author: Muskan Vaswan, Arnav Batra"
   ]
  },
  {
   "cell_type": "markdown",
   "id": "7f31d279",
   "metadata": {},
   "source": [
    "Dataset Description: \n",
    "H-1B visas are a category of employment-based, non-immigrant visas for temporary foreign workers in the United States. For a foreign national to apply for H1-B visa, a US employer must offer them a job and submit a petition for a H-1B visa to the US immigration department. This is also the most common visa status applied for and held by international students once they complete college or higher education and begin working in a full-time position.\n",
    "\n",
    "https://www.kaggle.com/nsharan/h-1b-visa"
   ]
  },
  {
   "cell_type": "code",
   "execution_count": null,
   "id": "3ee93649",
   "metadata": {},
   "outputs": [],
   "source": []
  }
 ],
 "metadata": {
  "kernelspec": {
   "display_name": "Python 3 (ipykernel)",
   "language": "python",
   "name": "python3"
  },
  "language_info": {
   "codemirror_mode": {
    "name": "ipython",
    "version": 3
   },
   "file_extension": ".py",
   "mimetype": "text/x-python",
   "name": "python",
   "nbconvert_exporter": "python",
   "pygments_lexer": "ipython3",
   "version": "3.9.7"
  }
 },
 "nbformat": 4,
 "nbformat_minor": 5
}
